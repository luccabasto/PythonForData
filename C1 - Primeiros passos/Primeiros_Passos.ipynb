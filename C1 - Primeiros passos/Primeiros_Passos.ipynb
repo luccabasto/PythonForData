{
 "cells": [
  {
   "cell_type": "markdown",
   "id": "d17f91fa-5764-4ade-aaec-3deb7f966677",
   "metadata": {},
   "source": [
    "Algumas <b>Atalhos</b> que agilizam o processo. \n",
    "\n",
    "Dentre eles, os mais usados: \n",
    "<ul>\n",
    "    <li>'Ctrl + Enter': Executa a célula selecionada.</li>\n",
    "    <li>'Shift + Enter': Executa a célula selecionada e seleciona a próxima célula. Se for a - última célula do Notebook, uma nova célula é criada automaticamente.</li>\n",
    "    <li>'a': Cria uma célula antes da célula selecionada (above).</li>\n",
    "    <li>'b': Cria uma célula depois da célula selecionada (below).</li>\n",
    "    <li>'d + d': Deleta a célula selecionada.</li>\n",
    "    <li>'t':Transforma a célula em uma célula de código.</li>\n",
    "    <li>'m': Transforma a célula em uma célula do tipo Markdown.</li>\n",
    "</ul>"
   ]
  },
  {
   "cell_type": "markdown",
   "id": "8e034ec0-44b1-4757-807c-6d97dae00673",
   "metadata": {},
   "source": [
    "Exercícios iniciais da primeira aula"
   ]
  },
  {
   "cell_type": "code",
   "execution_count": 78,
   "id": "2f94472b-4f2f-4f6e-8622-5da2ace5d327",
   "metadata": {},
   "outputs": [
    {
     "name": "stdout",
     "output_type": "stream",
     "text": [
      "Escola de Dados da Alura!\n",
      "Nome: Lucas\n",
      "Sobrenome Silva Basto\n"
     ]
    }
   ],
   "source": [
    "nome = 'Lucas'\n",
    "sobrenome = 'Silva Basto'\n",
    "print('Escola de Dados da Alura!')\n",
    "print('Nome:', nome)\n",
    "print('Sobrenome',sobrenome)"
   ]
  },
  {
   "cell_type": "code",
   "execution_count": 35,
   "id": "e5d6a9d2-fb32-480e-bb41-38a73f5832b1",
   "metadata": {},
   "outputs": [
    {
     "name": "stdout",
     "output_type": "stream",
     "text": [
      "Nome: Lucas\n",
      "Sobrenome: Silva Basto\n"
     ]
    }
   ],
   "source": [
    "print('Nome: Lucas')\n",
    "print('Sobrenome: Silva Basto')"
   ]
  },
  {
   "cell_type": "code",
   "execution_count": 37,
   "id": "808bf6a9-46d3-437d-b3ce-83ff1f744993",
   "metadata": {},
   "outputs": [
    {
     "name": "stdout",
     "output_type": "stream",
     "text": [
      "L\n",
      "U\n",
      "C\n",
      "A\n",
      "S\n"
     ]
    }
   ],
   "source": [
    "print('L')\n",
    "print('U')\n",
    "print('C')\n",
    "print('A')\n",
    "print('S')"
   ]
  },
  {
   "cell_type": "code",
   "execution_count": 44,
   "id": "41bc00a9-9037-4ac8-9c4d-4bae930a1bab",
   "metadata": {},
   "outputs": [
    {
     "name": "stdout",
     "output_type": "stream",
     "text": [
      "21 de Abril 1999\n"
     ]
    }
   ],
   "source": [
    "print(21,'de Abril',1999)"
   ]
  },
  {
   "cell_type": "code",
   "execution_count": 50,
   "id": "15bf417d-6b1f-41aa-bf23-0178606d8131",
   "metadata": {},
   "outputs": [
    {
     "name": "stdout",
     "output_type": "stream",
     "text": [
      "Ano atual: 2024\n"
     ]
    }
   ],
   "source": [
    "print('Ano atual:',2024)"
   ]
  },
  {
   "cell_type": "code",
   "execution_count": 66,
   "id": "2ce25962-0ece-4d6e-80a8-4fd33ebca091",
   "metadata": {},
   "outputs": [],
   "source": [
    "# - Comentários de uma linha: Adicionando o símbolo de # \n",
    "#   no início de uma linha.\n",
    "\n"
   ]
  },
  {
   "cell_type": "code",
   "execution_count": 72,
   "id": "de057d71-29ae-4f25-87c4-67fce13cf806",
   "metadata": {},
   "outputs": [
    {
     "name": "stdout",
     "output_type": "stream",
     "text": [
      "10\n"
     ]
    }
   ],
   "source": [
    "# Comentário de várias linhas:\n",
    "''' Os Comentários de várias linhas são feitos usando um conjunto de \n",
    "aspas triplas ou (\"\"\"). Tudo que estiver entre essas aspas triplhas\n",
    "será considerado um comentário. '''\n",
    "print(10)"
   ]
  },
  {
   "cell_type": "markdown",
   "id": "ef809c0b-3be1-4357-ae94-768aaee2b721",
   "metadata": {},
   "source": [
    "# Cabeçalho de nível 1\n",
    "## Cabeçalho de nível 2\n",
    "### Cabeçalho de nível 3"
   ]
  },
  {
   "cell_type": "markdown",
   "id": "9e754175-87af-42cf-a299-cfb0bfae2856",
   "metadata": {},
   "source": [
    "**Texto em negrito** - Construir um texto em **negrito** podemos usar ** antes e depois do texto.\n",
    "\n",
    "*Texto em itálico* - Contruir um texto em *itálico* podemos usar * antes e depois do texto.\n",
    "\n",
    "***Texto em negrito e itálico*** - Possível unir os dois modos de escrita agrupando as duas estruturas com *** (sim três)."
   ]
  },
  {
   "cell_type": "markdown",
   "id": "04a2a118-5993-4eb3-bd26-b9f58291a60a",
   "metadata": {},
   "source": [
    "**Listas** \n",
    "Para construir **listas não numeradas** (em *bullets*), colocamos * e depois um espaço (* )antes do item:\n",
    "\n",
    "* Item 1\n",
    "* Item 2\n",
    "* Item 3\n",
    "\n",
    "Para construir **listas numeradas**, podemos usar um número seguido de um ponto e uma espaço (1. )antes do item:\n",
    "\n",
    "1. Item 1\n",
    "2. Item 2\n",
    "3. Item 3"
   ]
  },
  {
   "cell_type": "markdown",
   "id": "ee655155-4732-4b39-8670-6a300a28a1a7",
   "metadata": {},
   "source": [
    "**Links** \n",
    "Sintaxe: [Link for Github](https://github.com/luccabasto) "
   ]
  },
  {
   "cell_type": "markdown",
   "id": "96ba95c8-a01c-460d-a3fa-f5a86c91a851",
   "metadata": {},
   "source": [
    "<hr>\n",
    "\n",
    "### Operações aritméticos"
   ]
  },
  {
   "cell_type": "markdown",
   "id": "838c2f5e-754c-441e-9b9a-79661863af03",
   "metadata": {},
   "source": [
    "<b>Exponenciação (**)</b>\n",
    "\n",
    "Conseguimos elevar o número à uma potência definida através do operador **.\n",
    "Para ter esse resultado, definimos um valor à esquerda do operador e a potência desejada do número à direita. \n",
    "\n",
    "Exemplo: Sabe que 2 elevado à 3 é igual 8. \n",
    "<code> 2**3 </code>"
   ]
  },
  {
   "cell_type": "code",
   "execution_count": 116,
   "id": "ea4d4fa9-a3de-4c28-834c-783bba9fe63b",
   "metadata": {},
   "outputs": [
    {
     "data": {
      "text/plain": [
       "8"
      ]
     },
     "execution_count": 116,
     "metadata": {},
     "output_type": "execute_result"
    }
   ],
   "source": [
    "# Exponenciação\n",
    "2**3"
   ]
  },
  {
   "cell_type": "code",
   "execution_count": 161,
   "id": "c961363d-10ea-426e-a1f7-2b0d46210442",
   "metadata": {},
   "outputs": [
    {
     "data": {
      "text/plain": [
       "8"
      ]
     },
     "execution_count": 161,
     "metadata": {},
     "output_type": "execute_result"
    }
   ],
   "source": [
    "# O mesmo exemplo pode ser feito com variáveis.\n",
    "operador = 2 \n",
    "potencia = 3\n",
    "operador ** potencia"
   ]
  },
  {
   "cell_type": "markdown",
   "id": "3fdc0908-8dbe-4634-8250-91e846a030e6",
   "metadata": {},
   "source": [
    "**Módulo (%)** \n",
    "\n",
    "O operador de módulo pode retornar o resto da divisão inteira entre dois números. ***Lembrando que o resto de uma divisão é o número que sobra quando uma divisão não é exata.***\n",
    "\n",
    "Para calcularmos o módulo de uma divisão, colocamos o dividendo à esquerda no operador % e o divisor à direita. Para encontrarmos o resto da divisão de 7 por 3, por exemplo, podemos executar os seguintes códigos: "
   ]
  },
  {
   "cell_type": "code",
   "execution_count": 159,
   "id": "2a79b39c-73ec-4cb8-973f-1654dafa0786",
   "metadata": {},
   "outputs": [
    {
     "data": {
      "text/plain": [
       "1"
      ]
     },
     "execution_count": 159,
     "metadata": {},
     "output_type": "execute_result"
    }
   ],
   "source": [
    "7%3"
   ]
  },
  {
   "cell_type": "code",
   "execution_count": 157,
   "id": "3a0e0ea6-f625-4deb-8611-1d5dd0109b3e",
   "metadata": {},
   "outputs": [
    {
     "data": {
      "text/plain": [
       "1"
      ]
     },
     "execution_count": 157,
     "metadata": {},
     "output_type": "execute_result"
    }
   ],
   "source": [
    "# O mesmo por ser feito com variáveis\n",
    "\n",
    "dividendo = 7\n",
    "divisor = 3\n",
    "dividendo % divisor"
   ]
  },
  {
   "cell_type": "markdown",
   "id": "b6f4e585-a7e4-4744-ace1-6982a58d06ac",
   "metadata": {},
   "source": [
    "**Divisão inteira (//)** \n",
    "\n",
    "Essa operação retorna o resultado da divisão inteira entre dois números, ou seja, retorna apeanas a parte inteira de uma divisão. \n",
    "Por exemplo, sabe que a divisão exata de 7 por 3 (7/3) resulta no valor 2.333333... <br>\n",
    "Caso essa fosse uma divisão inteira, o resultado dela seria apenas 2. Sua sintaxe consiste em colocar o valor do numerador, o operador <code>//</code> e depois o denominador, como consta a seguir:  "
   ]
  },
  {
   "cell_type": "code",
   "execution_count": 151,
   "id": "5fa7ed52-1db6-4c81-980f-e95734e23802",
   "metadata": {},
   "outputs": [
    {
     "data": {
      "text/plain": [
       "2"
      ]
     },
     "execution_count": 151,
     "metadata": {},
     "output_type": "execute_result"
    }
   ],
   "source": [
    "7 // 3"
   ]
  },
  {
   "cell_type": "code",
   "execution_count": 155,
   "id": "84798344-ff04-4008-9ac1-715bcc0bfd88",
   "metadata": {},
   "outputs": [
    {
     "data": {
      "text/plain": [
       "2"
      ]
     },
     "execution_count": 155,
     "metadata": {},
     "output_type": "execute_result"
    }
   ],
   "source": [
    "# O mesmo exemplo pode ser feito com variáveis\n",
    "\n",
    "numerador = 7\n",
    "denominador = 3\n",
    "numerador // denominador\n"
   ]
  },
  {
   "cell_type": "markdown",
   "id": "2beb8681-facf-4bad-9fd9-30ca587bcc61",
   "metadata": {},
   "source": [
    "<hr>\n",
    "\n",
    "### Formatações do print()\n",
    "\n",
    "Aprendi durante a aula a utilizar a formatação f-string na qual colocamos um f antes da criação da string e as variáveis entre chaves {}. "
   ]
  },
  {
   "cell_type": "code",
   "execution_count": 1,
   "id": "c5dd0a3a-18d0-42d4-8f57-dee30ec29e03",
   "metadata": {},
   "outputs": [
    {
     "name": "stdout",
     "output_type": "stream",
     "text": [
      "O nome da minha conta masculina no Wuthering Waves é Python e a idade 21.\n"
     ]
    }
   ],
   "source": [
    "# Exempplo:\n",
    "nome = 'Python'\n",
    "idade = 21\n",
    "print(f'O nome da minha conta masculina no Wuthering Waves é {nome} e a idade {idade}.')"
   ]
  },
  {
   "cell_type": "markdown",
   "id": "1ef16c04-d38c-4681-b6fe-250df49c3461",
   "metadata": {},
   "source": [
    "Existem outras formatações, como o uso do operador de formatação de string ou função .format().\n",
    "\n",
    "* Operador de formatação\n",
    "  Esse operador de formatação permite a inserção de variáveis em pontos específicos na string com o operador %. Esse operador funciona como um marcador, informando onde o valor da variável vai ser exposto na string.\n",
    "\n",
    "O % precisa ser acompanhado de uma palavra-chave para cada tipo de variável que se deseja adicionar. Seguindo a tabela abaixo: "
   ]
  },
  {
   "cell_type": "markdown",
   "id": "aa9e69e3-2b6f-463c-97c2-99462dcca5e1",
   "metadata": {},
   "source": [
    "| Tipo de variável  | Palavra-chave   |\n",
    "|-------------------|-----------------|\n",
    "| Float             | <code>%f</code> |\n",
    "| Inteiro           | <code>%d</code> |\n",
    "| String            | <code>%s</code> |\n",
    "| Caractere         | <code>%c</code> |"
   ]
  },
  {
   "cell_type": "markdown",
   "id": "2440a235-c387-48ca-bb91-72dd26c2c439",
   "metadata": {},
   "source": [
    "Desse modo, para inserirmos uma variável, podemos adicionar o operador pela string no ponto desejado.\n"
   ]
  },
  {
   "cell_type": "code",
   "execution_count": 5,
   "id": "88c1821e-a4e8-4bee-bfb9-4cbf57880dcd",
   "metadata": {},
   "outputs": [
    {
     "name": "stdout",
     "output_type": "stream",
     "text": [
      "Nome do aluno: Lucas Basto\n"
     ]
    }
   ],
   "source": [
    "nome_aluno = 'Lucas Basto'\n",
    "print('Nome do aluno: %s' %(nome_aluno))"
   ]
  },
  {
   "cell_type": "markdown",
   "id": "90824b80-b569-426a-b25f-a2c28fae8b2f",
   "metadata": {},
   "source": [
    " Caso tenha mais de uma variável, devemos ordená-las conforme seu surgimento no texto e separá-las por vírgula. "
   ]
  },
  {
   "cell_type": "code",
   "execution_count": 8,
   "id": "f59dbe86-e018-4cd9-8875-0a18405d30cc",
   "metadata": {},
   "outputs": [
    {
     "name": "stdout",
     "output_type": "stream",
     "text": [
      "Nome do aluno é Lucas Basto, ele tem 24 anos, \n",
      "e sua média na avaliação foi 9.700000\n"
     ]
    }
   ],
   "source": [
    "nome_aluno = 'Lucas Basto'\n",
    "idade_aluno = 24\n",
    "media_aluno = 9.7\n",
    "print('Nome do aluno é %s, ele tem %i anos, \\ne sua média na avaliação foi %f'%(nome_aluno,idade_aluno,media_aluno))"
   ]
  },
  {
   "cell_type": "markdown",
   "id": "04dda7aa-4272-4e17-8d5f-2205599c3f56",
   "metadata": {},
   "source": [
    "Quando trabalha com pontos flutuantes, podemos determinar a quantidade de casas decimais após a vírgula usando a \n",
    "sintaxe <code>%.xf</code> na qual <code>x</code> é o número de casas desejadas.\n"
   ]
  },
  {
   "cell_type": "code",
   "execution_count": 10,
   "id": "9d32292d-a18c-4bbe-be4e-ddcf43de7254",
   "metadata": {},
   "outputs": [
    {
     "name": "stdout",
     "output_type": "stream",
     "text": [
      "Nome do aluno é Lucas Basto, ele tem 24 anos, \n",
      "e sua média na avaliação foi 9.70\n"
     ]
    }
   ],
   "source": [
    "print('Nome do aluno é %s, ele tem %i anos, \\ne sua média na avaliação foi %.2f'%(nome_aluno,idade_aluno,media_aluno))"
   ]
  },
  {
   "cell_type": "markdown",
   "id": "a996a56d-7dd8-417c-8eac-d751ab0dc47a",
   "metadata": {},
   "source": [
    "* Operadores de formatação de strings com % não funciona diretamente com valores booleanos.\n",
    "Uma maneira de lidar com isso é **convertendo o valor booleano para uma string antes de usá-lo na formação com a função** <code>str()</code>"
   ]
  },
  {
   "cell_type": "code",
   "execution_count": 11,
   "id": "971f230d-de68-4550-a13c-1d56a68a62a3",
   "metadata": {},
   "outputs": [
    {
     "name": "stdout",
     "output_type": "stream",
     "text": [
      "Valor de x: True\n"
     ]
    }
   ],
   "source": [
    "x= True\n",
    "print('Valor de x: %s' %str(x))"
   ]
  },
  {
   "cell_type": "markdown",
   "id": "b7bf1500-4db4-4079-8e2c-c4d0d15053db",
   "metadata": {},
   "source": [
    "* <code>format</code><br>\n",
    "    É possível também usar o método <code>format()</code> para fazer a formatação de strings. Ele é mais flexçivel e permite passar as variáveis diretamente dentro da string, sem a necessiadade dos operadores <code>%</code>. Seues marcadores são apenas as <code>{ }</code>."
   ]
  },
  {
   "cell_type": "code",
   "execution_count": 13,
   "id": "1f546c63-47e9-4a17-8105-58675f431ed7",
   "metadata": {},
   "outputs": [
    {
     "name": "stdout",
     "output_type": "stream",
     "text": [
      "Nome do aluno: Lucas Basto\n"
     ]
    }
   ],
   "source": [
    "nome_aluno = 'Lucas Basto'\n",
    "print('Nome do aluno: {}'.format(nome_aluno))"
   ]
  },
  {
   "cell_type": "code",
   "execution_count": 20,
   "id": "d3f0769b-0693-4a2f-9618-3d8cf159bac4",
   "metadata": {},
   "outputs": [
    {
     "name": "stdout",
     "output_type": "stream",
     "text": [
      "Do mesmo modo que é feito com o operador, \n",
      "conseguimos aplicar com mais variáveis:\n",
      "\n",
      "Nome do aluno é Lucas Basto, ele tem 24 anos e sua média é 9.77.\n"
     ]
    }
   ],
   "source": [
    "print('Do mesmo modo que é feito com o operador, \\nconseguimos aplicar com mais variáveis:')\n",
    "\n",
    "nome_aluno = 'Lucas Basto'\n",
    "idade_aluno = 24\n",
    "media_aluno = 9.77\n",
    "\n",
    "print('\\nNome do aluno é {}, ele tem {} anos e sua média é {}.' .format(nome_aluno,idade_aluno,media_aluno))"
   ]
  },
  {
   "cell_type": "markdown",
   "id": "94e5e644-9303-4dcb-aac5-4e8247d64f0f",
   "metadata": {},
   "source": [
    "<hr>\n",
    "\n",
    "### Carateres especiais\n",
    "\n",
    "| Caracter | O que faz?   |\n",
    "|-------------------|-----------------|\n",
    "| <code>\\n</code>   | Nova linha e é usado para pular uma linha no texto. |\n",
    "| <code>\\t</code>   | Tabulação usado para adicionar um espaço de tabulação no texto.|\n",
    "| <code>\\\\\\ </code>   | Usado para imprimir uma única barra invertida. Caso não seja usada a dupla berra invertida, o código poderá resultar em erro. |\n",
    "| <code>\\ \"</code>   | Usado para imprimir aspas duplas quando estamos <br>trabalhando com uma string criada a partir de aspas duplas <code>\"</code>. |\n",
    "| <code>\\ '</code>   | Usado para imprimir aspas simples quando estamos <br>trabalhando com uma string criada a partir de aspas simples <code>'</code>. |"
   ]
  },
  {
   "cell_type": "code",
   "execution_count": 23,
   "id": "8417b847-f1a9-4e66-a0ba-7266e3a16385",
   "metadata": {},
   "outputs": [
    {
     "name": "stdout",
     "output_type": "stream",
     "text": [
      "Estudar é um esforço constante,\n",
      "É como cultivar uma planta,\n",
      "Precisamos de dedicação e paciência,\n",
      "Para ver o fruto amadurecer.\n"
     ]
    }
   ],
   "source": [
    "print(\"Estudar é um esforço constante,\\nÉ como cultivar uma planta,\\nPrecisamos de dedicação e paciência,\\nPara ver o fruto amadurecer.\")"
   ]
  },
  {
   "cell_type": "code",
   "execution_count": 21,
   "id": "7586debf-84ca-46ca-ace5-944bbd7a1c5d",
   "metadata": {},
   "outputs": [
    {
     "name": "stdout",
     "output_type": "stream",
     "text": [
      "Quantidade\tQualidade\n",
      "5 amostras\tAlta\n",
      "3 amostras\tBaixa\n"
     ]
    }
   ],
   "source": [
    "print('Quantidade\\tQualidade\\n5 amostras\\tAlta\\n3 amostras\\tBaixa')"
   ]
  },
  {
   "cell_type": "code",
   "execution_count": 22,
   "id": "847e3bdb-696f-47bc-90a5-2ebae817114b",
   "metadata": {},
   "outputs": [
    {
     "name": "stdout",
     "output_type": "stream",
     "text": [
      "Caminho do arquivo: C:\\arquivos\\documento.csv\n"
     ]
    }
   ],
   "source": [
    "print(\"Caminho do arquivo: C:\\\\arquivos\\\\documento.csv\")"
   ]
  },
  {
   "cell_type": "code",
   "execution_count": 24,
   "id": "3f9fc763-ef26-4e84-aee2-8ffed4bfc70d",
   "metadata": {},
   "outputs": [
    {
     "name": "stdout",
     "output_type": "stream",
     "text": [
      "Minha professora uma vez disse 'Estudar é a chave do sucesso.' \n"
     ]
    }
   ],
   "source": [
    "print('Minha professora uma vez disse \\'Estudar é a chave do sucesso.\\' ')"
   ]
  },
  {
   "cell_type": "code",
   "execution_count": 25,
   "id": "40549017-e62e-400c-ba27-73c85d542a60",
   "metadata": {},
   "outputs": [
    {
     "name": "stdout",
     "output_type": "stream",
     "text": [
      "Ouvi uma vez \"Os frutos do conhecimento são os mais doces e duradouros de todos.\"\n"
     ]
    }
   ],
   "source": [
    "print(\"Ouvi uma vez \\\"Os frutos do conhecimento são os mais doces e duradouros de todos.\\\"\")"
   ]
  },
  {
   "cell_type": "markdown",
   "id": "d044167f-b982-46c0-82c0-d438cd738058",
   "metadata": {},
   "source": [
    "<hr>\n",
    "\n",
    "### input \n",
    "\n",
    "A função <code>input</code> é usada para ler entradas de alguma pessoa usuária no formato de string e retorna esse valor lido."
   ]
  },
  {
   "cell_type": "code",
   "execution_count": 28,
   "id": "7e2374bb-7860-4bb9-ab8b-5a34dc105572",
   "metadata": {},
   "outputs": [
    {
     "name": "stdin",
     "output_type": "stream",
     "text": [
      "Qual é o seu nome?  Lucca\n"
     ]
    },
    {
     "data": {
      "text/plain": [
       "'Lucca'"
      ]
     },
     "execution_count": 28,
     "metadata": {},
     "output_type": "execute_result"
    }
   ],
   "source": [
    "nome = input('Qual é o seu nome? ')\n",
    "nome"
   ]
  },
  {
   "cell_type": "code",
   "execution_count": null,
   "id": "331523a6-2c90-404f-bb33-1ee45d9ee02c",
   "metadata": {},
   "outputs": [],
   "source": []
  }
 ],
 "metadata": {
  "kernelspec": {
   "display_name": "Python 3 (ipykernel)",
   "language": "python",
   "name": "python3"
  },
  "language_info": {
   "codemirror_mode": {
    "name": "ipython",
    "version": 3
   },
   "file_extension": ".py",
   "mimetype": "text/x-python",
   "name": "python",
   "nbconvert_exporter": "python",
   "pygments_lexer": "ipython3",
   "version": "3.12.4"
  }
 },
 "nbformat": 4,
 "nbformat_minor": 5
}
